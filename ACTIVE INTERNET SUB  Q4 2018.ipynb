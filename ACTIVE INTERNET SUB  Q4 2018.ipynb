{
 "cells": [
  {
   "cell_type": "code",
   "execution_count": 1,
   "id": "3c2570b3",
   "metadata": {},
   "outputs": [],
   "source": [
    "import pandas as pd"
   ]
  },
  {
   "cell_type": "code",
   "execution_count": 2,
   "id": "998bdaff",
   "metadata": {},
   "outputs": [],
   "source": [
    "# I imported the internet growth dataset from africaopendata.org and stored it in a variable\n",
    "df = pd.read_csv(\"internet growth.csv\")"
   ]
  },
  {
   "cell_type": "code",
   "execution_count": 3,
   "id": "ffd0a0d2",
   "metadata": {},
   "outputs": [
    {
     "data": {
      "text/html": [
       "<div>\n",
       "<style scoped>\n",
       "    .dataframe tbody tr th:only-of-type {\n",
       "        vertical-align: middle;\n",
       "    }\n",
       "\n",
       "    .dataframe tbody tr th {\n",
       "        vertical-align: top;\n",
       "    }\n",
       "\n",
       "    .dataframe thead th {\n",
       "        text-align: right;\n",
       "    }\n",
       "</style>\n",
       "<table border=\"1\" class=\"dataframe\">\n",
       "  <thead>\n",
       "    <tr style=\"text-align: right;\">\n",
       "      <th></th>\n",
       "      <th>SN</th>\n",
       "      <th>STATES</th>\n",
       "      <th>Active Internet per state Q4 2018</th>\n",
       "      <th>MTN-Q-o-Q growth rate Q3 2019 - Q4 2019.</th>\n",
       "      <th>GLO -Q-o-Q growth rate Q3 2019 - Q4 2019.</th>\n",
       "      <th>AIRTEL -Q-o-Q growth rate Q3 2019 - Q4 2019.</th>\n",
       "      <th>9MOBILE -Q-o-Q growth rate Q3 2019 - Q4 2019.</th>\n",
       "      <th>OTHERS -Q-o-Q growth rate Q3 2019 - Q4 2019.</th>\n",
       "      <th>sub total</th>\n",
       "      <th>Y-o-Y growth rate of (%) Active Internet Subscriptions Per State, Q4 2018 - Q4 2019.</th>\n",
       "      <th>Unnamed: 10</th>\n",
       "      <th>Unnamed: 11</th>\n",
       "    </tr>\n",
       "  </thead>\n",
       "  <tbody>\n",
       "    <tr>\n",
       "      <th>0</th>\n",
       "      <td>1</td>\n",
       "      <td>ABIA</td>\n",
       "      <td>2266320</td>\n",
       "      <td>4.448471</td>\n",
       "      <td>-1.656513</td>\n",
       "      <td>1.560568</td>\n",
       "      <td>-4.882596</td>\n",
       "      <td>1.648352</td>\n",
       "      <td>1.814070</td>\n",
       "      <td>10.896211</td>\n",
       "      <td>NaN</td>\n",
       "      <td>NaN</td>\n",
       "    </tr>\n",
       "    <tr>\n",
       "      <th>1</th>\n",
       "      <td>2</td>\n",
       "      <td>ADAMAWA</td>\n",
       "      <td>1890285</td>\n",
       "      <td>6.543428</td>\n",
       "      <td>-4.555410</td>\n",
       "      <td>8.766769</td>\n",
       "      <td>-1.271074</td>\n",
       "      <td>36.111111</td>\n",
       "      <td>4.969337</td>\n",
       "      <td>17.363625</td>\n",
       "      <td>NaN</td>\n",
       "      <td>NaN</td>\n",
       "    </tr>\n",
       "    <tr>\n",
       "      <th>2</th>\n",
       "      <td>3</td>\n",
       "      <td>AKWA IBOM</td>\n",
       "      <td>2075045</td>\n",
       "      <td>3.688190</td>\n",
       "      <td>-3.290046</td>\n",
       "      <td>1.611997</td>\n",
       "      <td>-5.709180</td>\n",
       "      <td>12.887828</td>\n",
       "      <td>1.101149</td>\n",
       "      <td>18.501912</td>\n",
       "      <td>NaN</td>\n",
       "      <td>NaN</td>\n",
       "    </tr>\n",
       "    <tr>\n",
       "      <th>3</th>\n",
       "      <td>4</td>\n",
       "      <td>ANAMBRA</td>\n",
       "      <td>3055645</td>\n",
       "      <td>6.566736</td>\n",
       "      <td>-0.901486</td>\n",
       "      <td>2.899111</td>\n",
       "      <td>-6.571665</td>\n",
       "      <td>-4.457577</td>\n",
       "      <td>3.379966</td>\n",
       "      <td>17.910294</td>\n",
       "      <td>NaN</td>\n",
       "      <td>NaN</td>\n",
       "    </tr>\n",
       "    <tr>\n",
       "      <th>4</th>\n",
       "      <td>5</td>\n",
       "      <td>BAUCHI</td>\n",
       "      <td>1989597</td>\n",
       "      <td>12.809570</td>\n",
       "      <td>-6.106196</td>\n",
       "      <td>11.061719</td>\n",
       "      <td>0.324018</td>\n",
       "      <td>80.434783</td>\n",
       "      <td>9.074889</td>\n",
       "      <td>23.196205</td>\n",
       "      <td>NaN</td>\n",
       "      <td>NaN</td>\n",
       "    </tr>\n",
       "  </tbody>\n",
       "</table>\n",
       "</div>"
      ],
      "text/plain": [
       "   SN     STATES  Active Internet per state Q4 2018  \\\n",
       "0   1       ABIA                            2266320   \n",
       "1   2    ADAMAWA                            1890285   \n",
       "2   3  AKWA IBOM                            2075045   \n",
       "3   4    ANAMBRA                            3055645   \n",
       "4   5     BAUCHI                            1989597   \n",
       "\n",
       "   MTN-Q-o-Q growth rate Q3 2019 - Q4 2019.  \\\n",
       "0                                  4.448471   \n",
       "1                                  6.543428   \n",
       "2                                  3.688190   \n",
       "3                                  6.566736   \n",
       "4                                 12.809570   \n",
       "\n",
       "   GLO -Q-o-Q growth rate Q3 2019 - Q4 2019.  \\\n",
       "0                                  -1.656513   \n",
       "1                                  -4.555410   \n",
       "2                                  -3.290046   \n",
       "3                                  -0.901486   \n",
       "4                                  -6.106196   \n",
       "\n",
       "   AIRTEL -Q-o-Q growth rate Q3 2019 - Q4 2019.  \\\n",
       "0                                      1.560568   \n",
       "1                                      8.766769   \n",
       "2                                      1.611997   \n",
       "3                                      2.899111   \n",
       "4                                     11.061719   \n",
       "\n",
       "   9MOBILE -Q-o-Q growth rate Q3 2019 - Q4 2019.  \\\n",
       "0                                      -4.882596   \n",
       "1                                      -1.271074   \n",
       "2                                      -5.709180   \n",
       "3                                      -6.571665   \n",
       "4                                       0.324018   \n",
       "\n",
       "   OTHERS -Q-o-Q growth rate Q3 2019 - Q4 2019.  sub total  \\\n",
       "0                                      1.648352   1.814070   \n",
       "1                                     36.111111   4.969337   \n",
       "2                                     12.887828   1.101149   \n",
       "3                                     -4.457577   3.379966   \n",
       "4                                     80.434783   9.074889   \n",
       "\n",
       "   Y-o-Y growth rate of (%) Active Internet Subscriptions Per State, Q4 2018 - Q4 2019.  \\\n",
       "0                                          10.896211                                      \n",
       "1                                          17.363625                                      \n",
       "2                                          18.501912                                      \n",
       "3                                          17.910294                                      \n",
       "4                                          23.196205                                      \n",
       "\n",
       "   Unnamed: 10  Unnamed: 11  \n",
       "0          NaN          NaN  \n",
       "1          NaN          NaN  \n",
       "2          NaN          NaN  \n",
       "3          NaN          NaN  \n",
       "4          NaN          NaN  "
      ]
     },
     "execution_count": 3,
     "metadata": {},
     "output_type": "execute_result"
    }
   ],
   "source": [
    "# I called on the variable\n",
    "df.head()"
   ]
  },
  {
   "cell_type": "code",
   "execution_count": 4,
   "id": "dd45fc45",
   "metadata": {},
   "outputs": [],
   "source": [
    "# From the dataset, I realised only the first 3 columns would be useful for me, so i imported them only\n",
    "#while skipping the last column(Other column)\n",
    "Active_internet_growth_Q4_2018 = pd.read_csv(\"internet growth.csv\",\n",
    "                                            usecols = [0,1,2],\n",
    "                                            index_col = 0,\n",
    "                                            skipfooter = 1,\n",
    "                                            engine = 'python')"
   ]
  },
  {
   "cell_type": "code",
   "execution_count": 5,
   "id": "57681146",
   "metadata": {},
   "outputs": [
    {
     "data": {
      "text/html": [
       "<div>\n",
       "<style scoped>\n",
       "    .dataframe tbody tr th:only-of-type {\n",
       "        vertical-align: middle;\n",
       "    }\n",
       "\n",
       "    .dataframe tbody tr th {\n",
       "        vertical-align: top;\n",
       "    }\n",
       "\n",
       "    .dataframe thead th {\n",
       "        text-align: right;\n",
       "    }\n",
       "</style>\n",
       "<table border=\"1\" class=\"dataframe\">\n",
       "  <thead>\n",
       "    <tr style=\"text-align: right;\">\n",
       "      <th></th>\n",
       "      <th>STATES</th>\n",
       "      <th>Active Internet per state Q4 2018</th>\n",
       "    </tr>\n",
       "    <tr>\n",
       "      <th>SN</th>\n",
       "      <th></th>\n",
       "      <th></th>\n",
       "    </tr>\n",
       "  </thead>\n",
       "  <tbody>\n",
       "    <tr>\n",
       "      <th>1</th>\n",
       "      <td>ABIA</td>\n",
       "      <td>2266320</td>\n",
       "    </tr>\n",
       "    <tr>\n",
       "      <th>2</th>\n",
       "      <td>ADAMAWA</td>\n",
       "      <td>1890285</td>\n",
       "    </tr>\n",
       "    <tr>\n",
       "      <th>3</th>\n",
       "      <td>AKWA IBOM</td>\n",
       "      <td>2075045</td>\n",
       "    </tr>\n",
       "    <tr>\n",
       "      <th>4</th>\n",
       "      <td>ANAMBRA</td>\n",
       "      <td>3055645</td>\n",
       "    </tr>\n",
       "    <tr>\n",
       "      <th>5</th>\n",
       "      <td>BAUCHI</td>\n",
       "      <td>1989597</td>\n",
       "    </tr>\n",
       "  </tbody>\n",
       "</table>\n",
       "</div>"
      ],
      "text/plain": [
       "       STATES  Active Internet per state Q4 2018\n",
       "SN                                              \n",
       "1        ABIA                            2266320\n",
       "2     ADAMAWA                            1890285\n",
       "3   AKWA IBOM                            2075045\n",
       "4     ANAMBRA                            3055645\n",
       "5      BAUCHI                            1989597"
      ]
     },
     "execution_count": 5,
     "metadata": {},
     "output_type": "execute_result"
    }
   ],
   "source": [
    "Active_internet_growth_Q4_2018.head()"
   ]
  },
  {
   "cell_type": "code",
   "execution_count": 6,
   "id": "2994edf8",
   "metadata": {},
   "outputs": [],
   "source": [
    "# For visualization, i imported the matplotlib library and seaborn\n",
    "import matplotlib.pyplot as plt\n",
    "import seaborn as sns\n",
    "sns.set()"
   ]
  },
  {
   "cell_type": "code",
   "execution_count": 7,
   "id": "28ffd3c9",
   "metadata": {},
   "outputs": [
    {
     "data": {
      "image/png": "[encoded data removed]",
      "text/plain": [
       "<Figure size 1008x720 with 1 Axes>"
      ]
     },
     "metadata": {},
     "output_type": "display_data"
    }
   ],
   "source": [
    "# I ran the following code to visualize the data in a bar chart\n",
    "plt.figure(figsize = (14, 10))\n",
    "plt.bar(x= Active_internet_growth_Q4_2018[\"STATES\"],\n",
    "       height = Active_internet_growth_Q4_2018[\"Active Internet per state Q4 2018\"])\n",
    "plt.xlabel(\"STATES\", fontsize = 13)\n",
    "plt.ylabel(\"ACTIVE INTERNET USERS\", fontsize = 13)\n",
    "plt.title(\"ACTIVE INTERNET USERS IN THE 4TH QUARTER OF 2018 IN NIGERIA\", fontweight = 'bold', fontsize = 14)\n",
    "plt.xticks(fontsize = 10, rotation = 90)\n",
    "plt.show()"
   ]
  },
  {
   "cell_type": "code",
   "execution_count": 8,
   "id": "335e351b",
   "metadata": {},
   "outputs": [
    {
     "data": {
      "text/plain": [
       "Active Internet per state Q4 2018    15675147\n",
       "dtype: int64"
      ]
     },
     "execution_count": 8,
     "metadata": {},
     "output_type": "execute_result"
    }
   ],
   "source": [
    "# i called on the max function to view the maximum value in my dataset\n",
    "Active_internet_growth_Q4_2018.iloc[:,1:].max()"
   ]
  },
  {
   "cell_type": "code",
   "execution_count": 9,
   "id": "175d463b",
   "metadata": {},
   "outputs": [
    {
     "data": {
      "text/plain": [
       "Active Internet per state Q4 2018    823987\n",
       "dtype: int64"
      ]
     },
     "execution_count": 9,
     "metadata": {},
     "output_type": "execute_result"
    }
   ],
   "source": [
    "# I called on the min to view the minimum value in the dataset\n",
    "Active_internet_growth_Q4_2018.iloc[:,1:].min()"
   ]
  },
  {
   "cell_type": "code",
   "execution_count": 10,
   "id": "1e9d3ed8",
   "metadata": {},
   "outputs": [
    {
     "data": {
      "text/plain": [
       "array(['ABIA', 'ADAMAWA', 'AKWA IBOM', 'ANAMBRA', 'BAUCHI', 'BAYELSA',\n",
       "       'BENUE', 'BORNO', 'CROSS RIVER', 'DELTA', 'EBONYI', 'EDO', 'EKITI',\n",
       "       'ENUGU', 'FCT', 'GOMBE', 'IMO', 'JIGAWA', 'KADUNA', 'KANO',\n",
       "       'KATSINA', 'KEBBI', 'KOGI', 'KWARA', 'LAGOS', 'NASSARAWA', 'NIGER',\n",
       "       'OGUN', 'ONDO', 'OSUN', 'OYO', 'PLATEAU', 'RIVERS', 'SOKOTO',\n",
       "       'TARABA', 'YOBE', 'ZAMFARA'], dtype=object)"
      ]
     },
     "execution_count": 10,
     "metadata": {},
     "output_type": "execute_result"
    }
   ],
   "source": [
    "Active_internet_growth_Q4_2018['STATES'].values"
   ]
  },
  {
   "cell_type": "code",
   "execution_count": 12,
   "id": "6142e637",
   "metadata": {},
   "outputs": [],
   "source": [
    "# I stored the dataset in a new variable for manipulations\n",
    "AIG = Active_internet_growth_Q4_2018.copy()"
   ]
  },
  {
   "cell_type": "code",
   "execution_count": 13,
   "id": "5adbe15a",
   "metadata": {},
   "outputs": [
    {
     "data": {
      "text/plain": [
       "array(['ABIA', 'ADAMAWA', 'AKWA IBOM', 'ANAMBRA', 'BAUCHI', 'BAYELSA',\n",
       "       'BENUE', 'BORNO', 'CROSS RIVER', 'DELTA', 'EBONYI', 'EDO', 'EKITI',\n",
       "       'ENUGU', 'FCT', 'GOMBE', 'IMO', 'JIGAWA', 'KADUNA', 'KANO',\n",
       "       'KATSINA', 'KEBBI', 'KOGI', 'KWARA', 'LAGOS', 'NASSARAWA', 'NIGER',\n",
       "       'OGUN', 'ONDO', 'OSUN', 'OYO', 'PLATEAU', 'RIVERS', 'SOKOTO',\n",
       "       'TARABA', 'YOBE', 'ZAMFARA'], dtype=object)"
      ]
     },
     "execution_count": 13,
     "metadata": {},
     "output_type": "execute_result"
    }
   ],
   "source": [
    "# i called on the states values \n",
    "AIG['STATES'].values"
   ]
  },
  {
   "cell_type": "code",
   "execution_count": 14,
   "id": "e9efe524",
   "metadata": {},
   "outputs": [],
   "source": [
    "# In order to figure out the geopolitical zone with the highest number of active internet users,\n",
    "# i created a function that contained a dictionary which assigns state values to their keys(geopolitical zones)\n",
    "#i then used a loop to run through the entire data set and appoint each state its appropiate zone\n",
    "def get_geopolitical_zone(state):\n",
    "    dictionary = {'South_West' : ['EKITI', 'LAGOS', 'OGUN', 'ONDO', 'OSUN', 'OYO'],\n",
    "                 'South_South' : ['AKWA IBOM', 'BAYELSA', 'CROSS RIVER', 'RIVERS', 'EDO', 'DELTA'],\n",
    "                 'South_East' : ['ABIA', 'ANAMBRA', 'EBONYI', 'ENUGU', 'IMO'],\n",
    "                 'North_West' : ['JIGAWA', 'KADUNA', 'KANO', 'KATSINA', 'KEBBI', 'SOKOTO', 'ZAMFARA'],\n",
    "                 'North_East' : ['ADAMAWA', 'BAUCHI', 'BORNO', 'GOMBE', 'TARABA', 'YOBE'],\n",
    "                 'North_Central' : ['BENUE', 'KOGI', 'KWARA', 'NASSARAWA', 'NIGER', 'PLATEAU','FCT']}\n",
    "    for x in dictionary.keys():\n",
    "        if state in dictionary[x]:\n",
    "            return x"
   ]
  },
  {
   "cell_type": "code",
   "execution_count": 21,
   "id": "2e932426",
   "metadata": {},
   "outputs": [
    {
     "data": {
      "text/html": [
       "<div>\n",
       "<style scoped>\n",
       "    .dataframe tbody tr th:only-of-type {\n",
       "        vertical-align: middle;\n",
       "    }\n",
       "\n",
       "    .dataframe tbody tr th {\n",
       "        vertical-align: top;\n",
       "    }\n",
       "\n",
       "    .dataframe thead th {\n",
       "        text-align: right;\n",
       "    }\n",
       "</style>\n",
       "<table border=\"1\" class=\"dataframe\">\n",
       "  <thead>\n",
       "    <tr style=\"text-align: right;\">\n",
       "      <th></th>\n",
       "      <th>STATES</th>\n",
       "      <th>Active Internet per state Q4 2018</th>\n",
       "      <th>GEOPOLITICAL ZONES</th>\n",
       "    </tr>\n",
       "    <tr>\n",
       "      <th>SN</th>\n",
       "      <th></th>\n",
       "      <th></th>\n",
       "      <th></th>\n",
       "    </tr>\n",
       "  </thead>\n",
       "  <tbody>\n",
       "    <tr>\n",
       "      <th>1</th>\n",
       "      <td>ABIA</td>\n",
       "      <td>2266320</td>\n",
       "      <td>South_East</td>\n",
       "    </tr>\n",
       "    <tr>\n",
       "      <th>2</th>\n",
       "      <td>ADAMAWA</td>\n",
       "      <td>1890285</td>\n",
       "      <td>North_East</td>\n",
       "    </tr>\n",
       "    <tr>\n",
       "      <th>3</th>\n",
       "      <td>AKWA IBOM</td>\n",
       "      <td>2075045</td>\n",
       "      <td>South_South</td>\n",
       "    </tr>\n",
       "    <tr>\n",
       "      <th>4</th>\n",
       "      <td>ANAMBRA</td>\n",
       "      <td>3055645</td>\n",
       "      <td>South_East</td>\n",
       "    </tr>\n",
       "    <tr>\n",
       "      <th>5</th>\n",
       "      <td>BAUCHI</td>\n",
       "      <td>1989597</td>\n",
       "      <td>North_East</td>\n",
       "    </tr>\n",
       "  </tbody>\n",
       "</table>\n",
       "</div>"
      ],
      "text/plain": [
       "       STATES  Active Internet per state Q4 2018 GEOPOLITICAL ZONES\n",
       "SN                                                                 \n",
       "1        ABIA                            2266320         South_East\n",
       "2     ADAMAWA                            1890285         North_East\n",
       "3   AKWA IBOM                            2075045        South_South\n",
       "4     ANAMBRA                            3055645         South_East\n",
       "5      BAUCHI                            1989597         North_East"
      ]
     },
     "execution_count": 21,
     "metadata": {},
     "output_type": "execute_result"
    }
   ],
   "source": [
    "# i created a new column and applied the function i created above\n",
    "# i called on the dataset and voila it worked as intended\n",
    "AIG['GEOPOLITICAL ZONES'] = AIG['STATES'].apply(lambda x: get_geopolitical_zone(x))\n",
    "AIG.head()"
   ]
  },
  {
   "cell_type": "code",
   "execution_count": 20,
   "id": "ba31c069",
   "metadata": {},
   "outputs": [],
   "source": [
    "# I then saved my new file and exported to Tableau for visualization\n",
    "AIG.to_csv(\"AIG.csv\")"
   ]
  },
  {
   "cell_type": "code",
   "execution_count": null,
   "id": "8ab3f697",
   "metadata": {},
   "outputs": [],
   "source": []
  }
 ],
 "metadata": {
  "kernelspec": {
   "display_name": "Python 3 (ipykernel)",
   "language": "python",
   "name": "python3"
  },
  "language_info": {
   "codemirror_mode": {
    "name": "ipython",
    "version": 3
   },
   "file_extension": ".py",
   "mimetype": "text/x-python",
   "name": "python",
   "nbconvert_exporter": "python",
   "pygments_lexer": "ipython3",
   "version": "3.9.7"
  }
 },
 "nbformat": 4,
 "nbformat_minor": 5
}
